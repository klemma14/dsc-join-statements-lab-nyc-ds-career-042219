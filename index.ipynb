{
 "cells": [
  {
   "cell_type": "markdown",
   "metadata": {},
   "source": [
    "# Join Statements - Lab\n",
    "\n",
    "## Introduction\n",
    "\n",
    "In this lab, you'll practice your knowledge of join statements, using various types of joins and various methods for specifying the links between them.\n",
    "\n",
    "## Objectives\n",
    "\n",
    "You will be able to:\n",
    "- Write queries that make use of various types of Joins\n",
    "- Join tables using foreign keys"
   ]
  },
  {
   "cell_type": "markdown",
   "metadata": {},
   "source": [
    "## CRM Schema\n",
    "\n",
    "In almost all cases, rather then just working with a single table you will typically need data from multiple tables. \n",
    "Doing this requires the use of **joins ** using shared columns from the two tables. \n",
    "\n",
    "In this lab, you'll use the same Customer Relationship Management (CRM) database that you saw from the previous lesson.\n",
    "<img src='images/Database-Schema.png' width=\"600\">"
   ]
  },
  {
   "cell_type": "markdown",
   "metadata": {},
   "source": [
    "## Connecting to the Database\n",
    "Import the necessary packages and connect to the database **data.sqlite**."
   ]
  },
  {
   "cell_type": "code",
   "execution_count": 2,
   "metadata": {},
   "outputs": [],
   "source": [
    "#Your code here\n",
    "import sqlite3\n",
    "conn = sqlite3.connect('data.sqlite')\n",
    "c = conn.cursor()\n"
   ]
  },
  {
   "cell_type": "code",
   "execution_count": 12,
   "metadata": {},
   "outputs": [],
   "source": [
    "def sql (querry ,cursor = c):\n",
    "    \"\"\"Runs a SQL querry and returns results as a Dataframe. cursor Variable is set to 'c' by default. Make sure your run sql_connect before using or set cursor manually \"\"\"\n",
    "    c.execute(querry)\n",
    "    c.fetchall\n",
    "    df = pd.DataFrame(c.fetchall())\n",
    "    df.columns = [x[0] for x in c.description]\n",
    "    return df\n",
    "\n",
    "\n",
    "\n",
    "\n"
   ]
  },
  {
   "cell_type": "markdown",
   "metadata": {},
   "source": [
    "## Display the names of all the employees in Boston.\n",
    "Hint: join the employees and customers tables."
   ]
  },
  {
   "cell_type": "code",
   "execution_count": 13,
   "metadata": {},
   "outputs": [
    {
     "data": {
      "text/plain": [
       "[('1216', 'Yoshido', 'Juri', '1216', 'Boston'),\n",
       " ('1188', 'Franco', 'Valarie', '1188', 'Boston')]"
      ]
     },
     "execution_count": 13,
     "metadata": {},
     "output_type": "execute_result"
    }
   ],
   "source": [
    "#Your code here\n",
    "c.execute('''select employees.employeeNumber, customers.contactLastName, customers.contactFirstName, customers.salesRepEmployeeNumber, customers.city\n",
    "          from customers\n",
    "          join employees \n",
    "          on customers.salesRepEmployeeNumber = employees.employeeNumber\n",
    "          where customers.city = 'Boston';''').fetchall()"
   ]
  },
  {
   "cell_type": "markdown",
   "metadata": {},
   "source": [
    "## Do any offices have no employees?\n",
    "Hint: Combine the employees and offices tables and use a group by."
   ]
  },
  {
   "cell_type": "code",
   "execution_count": 15,
   "metadata": {},
   "outputs": [
    {
     "data": {
      "text/plain": [
       "[('4', '4', 'Bondur'),\n",
       " ('7', '7', 'Bott'),\n",
       " ('1', '1', 'Bow'),\n",
       " ('4', '4', 'Castillo'),\n",
       " ('2', '2', 'Firrelli'),\n",
       " ('6', '6', 'Fixter'),\n",
       " ('4', '4', 'Gerard'),\n",
       " ('4', '4', 'Hernandez'),\n",
       " ('1', '1', 'Jennings'),\n",
       " ('7', '7', 'Jones'),\n",
       " ('5', '5', 'Kato'),\n",
       " ('6', '6', 'King'),\n",
       " ('6', '6', 'Marsh'),\n",
       " ('1', '1', 'Murphy'),\n",
       " ('5', '5', 'Nishi'),\n",
       " ('2', '2', 'Patterson'),\n",
       " ('1', '1', 'Thompson'),\n",
       " ('3', '3', 'Tseng'),\n",
       " ('3', '3', 'Vanauf')]"
      ]
     },
     "execution_count": 15,
     "metadata": {},
     "output_type": "execute_result"
    }
   ],
   "source": [
    "#Your code here\n",
    "c.execute('''select employees.officeCode, offices.officeCode, employees.lastname\n",
    "from employees \n",
    "join offices\n",
    "on employees.officeCode = offices.officeCode\n",
    "group by employees.lastname ''').fetchall()"
   ]
  },
  {
   "cell_type": "markdown",
   "metadata": {},
   "source": [
    "## Write 3 Questions of your own and answer them"
   ]
  },
  {
   "cell_type": "code",
   "execution_count": null,
   "metadata": {},
   "outputs": [],
   "source": [
    "# Answers will vary"
   ]
  },
  {
   "cell_type": "code",
   "execution_count": null,
   "metadata": {},
   "outputs": [],
   "source": [
    "# Your code here"
   ]
  },
  {
   "cell_type": "code",
   "execution_count": null,
   "metadata": {},
   "outputs": [],
   "source": [
    "# Your code here"
   ]
  },
  {
   "cell_type": "code",
   "execution_count": null,
   "metadata": {},
   "outputs": [],
   "source": [
    "# Your code here"
   ]
  },
  {
   "cell_type": "markdown",
   "metadata": {},
   "source": [
    "## Level Up: Display the names of each product each employee has sold"
   ]
  },
  {
   "cell_type": "code",
   "execution_count": null,
   "metadata": {},
   "outputs": [],
   "source": [
    "# Your code here"
   ]
  },
  {
   "cell_type": "markdown",
   "metadata": {},
   "source": [
    "## Level Up: Display the Number of Products each employee has sold"
   ]
  },
  {
   "cell_type": "code",
   "execution_count": null,
   "metadata": {},
   "outputs": [],
   "source": [
    "#Your code here"
   ]
  },
  {
   "cell_type": "markdown",
   "metadata": {},
   "source": [
    "## Summary"
   ]
  },
  {
   "cell_type": "markdown",
   "metadata": {},
   "source": [
    "Congrats! You now know how to use join statements, along with leveraging your foreign keys knowledge!"
   ]
  }
 ],
 "metadata": {
  "kernelspec": {
   "display_name": "Python 3",
   "language": "python",
   "name": "python3"
  },
  "language_info": {
   "codemirror_mode": {
    "name": "ipython",
    "version": 3
   },
   "file_extension": ".py",
   "mimetype": "text/x-python",
   "name": "python",
   "nbconvert_exporter": "python",
   "pygments_lexer": "ipython3",
   "version": "3.6.6"
  }
 },
 "nbformat": 4,
 "nbformat_minor": 2
}
